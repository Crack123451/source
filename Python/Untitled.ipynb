{
 "cells": [
  {
   "cell_type": "code",
   "execution_count": 24,
   "metadata": {},
   "outputs": [
    {
     "name": "stdout",
     "output_type": "stream",
     "text": [
      "qwer\n",
      "1234\n",
      "eqwrqweqw\n",
      "21312312\n",
      "{'q': '1', 'w': '2', 'e': '3', 'r': '4'}\n",
      "312412312\n",
      "wqeqweqw"
     ]
    }
   ],
   "source": [
    "a=[]\n",
    "d1={}\n",
    "d2={}\n",
    "for i in range(0,4):\n",
    "    a+=[input()]\n",
    "for i in range(0,len(a[0])):\n",
    "    d1[a[0][i]]=a[1][i]\n",
    "    d2[a[1][i]]=a[0][i]\n",
    "print(d)\n",
    "for i in range(0,len(a[2])):\n",
    "    print(d1[a[2][i]],end='')\n",
    "print()\n",
    "for i in range(0,len(a[3])):\n",
    "    print(d2[a[3][i]],end='')"
   ]
  },
  {
   "cell_type": "raw",
   "metadata": {},
   "source": []
  }
 ],
 "metadata": {
  "kernelspec": {
   "display_name": "Python 3",
   "language": "python",
   "name": "python3"
  },
  "language_info": {
   "codemirror_mode": {
    "name": "ipython",
    "version": 3
   },
   "file_extension": ".py",
   "mimetype": "text/x-python",
   "name": "python",
   "nbconvert_exporter": "python",
   "pygments_lexer": "ipython3",
   "version": "3.6.4"
  }
 },
 "nbformat": 4,
 "nbformat_minor": 2
}
